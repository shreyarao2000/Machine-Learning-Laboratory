{
 "cells": [
  {
   "cell_type": "code",
   "execution_count": 1,
   "metadata": {},
   "outputs": [
    {
     "name": "stdout",
     "output_type": "stream",
     "text": [
      "Mean is 3.5\n"
     ]
    }
   ],
   "source": [
    "#MEAN\n",
    "\n",
    "numbers=[1,2,3,4,5,6]\n",
    "n=len(numbers)\n",
    "sums=sum(numbers)\n",
    "\n",
    "mean=sums/n\n",
    "\n",
    "print(\"Mean is \" + str(mean))"
   ]
  },
  {
   "cell_type": "code",
   "execution_count": 2,
   "metadata": {},
   "outputs": [
    {
     "name": "stdout",
     "output_type": "stream",
     "text": [
      "Median is: 3\n"
     ]
    }
   ],
   "source": [
    "#MEDIAN\n",
    "\n",
    "num = [1, 2, 3, 4, 5]\n",
    "n = len(num)\n",
    "num.sort()\n",
    "  \n",
    "if n % 2 == 0:\n",
    "    median1 = num[n//2]\n",
    "    median2 = num[n//2 - 1]\n",
    "    median = (median1 + median2)/2\n",
    "else:\n",
    "    median = num[n//2]\n",
    "print(\"Median is: \" + str(median))"
   ]
  },
  {
   "cell_type": "code",
   "execution_count": 3,
   "metadata": {},
   "outputs": [
    {
     "name": "stdout",
     "output_type": "stream",
     "text": [
      "Median is: 8\n"
     ]
    }
   ],
   "source": [
    "num = [6, 7, 8, 9, 10]\n",
    "n = len(num)\n",
    "num.sort()\n",
    "  \n",
    "if n % 2 == 0:\n",
    "    median1 = num[n//2]\n",
    "    median2 = num[n//2 - 1]\n",
    "    median = (median1 + median2)/2\n",
    "else:\n",
    "    median = num[n//2]\n",
    "print(\"Median is: \" + str(median))"
   ]
  },
  {
   "cell_type": "code",
   "execution_count": 5,
   "metadata": {},
   "outputs": [
    {
     "ename": "IndentationError",
     "evalue": "unindent does not match any outer indentation level (<tokenize>, line 9)",
     "output_type": "error",
     "traceback": [
      "\u001b[0;36m  File \u001b[0;32m\"<tokenize>\"\u001b[0;36m, line \u001b[0;32m9\u001b[0m\n\u001b[0;31m    variance = sum(deviations) / n\u001b[0m\n\u001b[0m    ^\u001b[0m\n\u001b[0;31mIndentationError\u001b[0m\u001b[0;31m:\u001b[0m unindent does not match any outer indentation level\n"
     ]
    }
   ],
   "source": [
    "def variance(data):\n",
    "    # Number of observations\n",
    "     n = len(data)\n",
    "    # Mean of the data\n",
    "     mean = sum(data) / n\n",
    "    # Square deviations\n",
    "     deviations = [(x - mean) ** 2 for x in data]\n",
    "    # Variance\n",
    "    variance = sum(deviations) / n\n",
    "     return variance"
   ]
  },
  {
   "cell_type": "code",
   "execution_count": 9,
   "metadata": {},
   "outputs": [
    {
     "ename": "IndentationError",
     "evalue": "unindent does not match any outer indentation level (<tokenize>, line 9)",
     "output_type": "error",
     "traceback": [
      "\u001b[0;36m  File \u001b[0;32m\"<tokenize>\"\u001b[0;36m, line \u001b[0;32m9\u001b[0m\n\u001b[0;31m    variance = sum(deviations) / n\u001b[0m\n\u001b[0m    ^\u001b[0m\n\u001b[0;31mIndentationError\u001b[0m\u001b[0;31m:\u001b[0m unindent does not match any outer indentation level\n"
     ]
    }
   ],
   "source": [
    "def variance(data):\n",
    "    # Number of observations\n",
    "     n = len(data)\n",
    "    # Mean of the data\n",
    "     mean = sum(data) / n\n",
    "    # Square deviations\n",
    "     deviations = [(x - mean) ** 2 for x in data]\n",
    "    # Variance\n",
    "    variance = sum(deviations) / n\n",
    "     return variance\n"
   ]
  },
  {
   "cell_type": "code",
   "execution_count": 11,
   "metadata": {},
   "outputs": [
    {
     "ename": "IndentationError",
     "evalue": "unindent does not match any outer indentation level (<tokenize>, line 9)",
     "output_type": "error",
     "traceback": [
      "\u001b[0;36m  File \u001b[0;32m\"<tokenize>\"\u001b[0;36m, line \u001b[0;32m9\u001b[0m\n\u001b[0;31m    variance = sum(deviations) / n\u001b[0m\n\u001b[0m    ^\u001b[0m\n\u001b[0;31mIndentationError\u001b[0m\u001b[0;31m:\u001b[0m unindent does not match any outer indentation level\n"
     ]
    }
   ],
   "source": [
    "def variance(data):\n",
    "    \n",
    "     n = len(data)\n",
    "    \n",
    "     mean = sum(data) / n\n",
    "    \n",
    "     deviations = [(x - mean) ** 2 for x in data]\n",
    "\n",
    "    variance = sum(deviations) / n\n",
    "     return variance"
   ]
  },
  {
   "cell_type": "code",
   "execution_count": 12,
   "metadata": {},
   "outputs": [
    {
     "ename": "NameError",
     "evalue": "name 'variance' is not defined",
     "output_type": "error",
     "traceback": [
      "\u001b[0;31m---------------------------------------------------------------------------\u001b[0m",
      "\u001b[0;31mNameError\u001b[0m                                 Traceback (most recent call last)",
      "\u001b[0;32m<ipython-input-12-0aec439179a3>\u001b[0m in \u001b[0;36m<module>\u001b[0;34m\u001b[0m\n\u001b[0;32m----> 1\u001b[0;31m \u001b[0mvariance\u001b[0m\u001b[0;34m(\u001b[0m\u001b[0;34m[\u001b[0m\u001b[0;36m4\u001b[0m\u001b[0;34m,\u001b[0m \u001b[0;36m8\u001b[0m\u001b[0;34m,\u001b[0m \u001b[0;36m6\u001b[0m\u001b[0;34m,\u001b[0m \u001b[0;36m5\u001b[0m\u001b[0;34m,\u001b[0m \u001b[0;36m3\u001b[0m\u001b[0;34m,\u001b[0m \u001b[0;36m2\u001b[0m\u001b[0;34m,\u001b[0m \u001b[0;36m8\u001b[0m\u001b[0;34m,\u001b[0m \u001b[0;36m9\u001b[0m\u001b[0;34m,\u001b[0m \u001b[0;36m2\u001b[0m\u001b[0;34m,\u001b[0m \u001b[0;36m5\u001b[0m\u001b[0;34m]\u001b[0m\u001b[0;34m)\u001b[0m\u001b[0;34m\u001b[0m\u001b[0;34m\u001b[0m\u001b[0m\n\u001b[0m",
      "\u001b[0;31mNameError\u001b[0m: name 'variance' is not defined"
     ]
    }
   ],
   "source": [
    "variance([4, 8, 6, 5, 3, 2, 8, 9, 2, 5])"
   ]
  },
  {
   "cell_type": "code",
   "execution_count": 14,
   "metadata": {},
   "outputs": [
    {
     "ename": "IndentationError",
     "evalue": "unindent does not match any outer indentation level (<tokenize>, line 9)",
     "output_type": "error",
     "traceback": [
      "\u001b[0;36m  File \u001b[0;32m\"<tokenize>\"\u001b[0;36m, line \u001b[0;32m9\u001b[0m\n\u001b[0;31m    variance = sum(deviations) / n\u001b[0m\n\u001b[0m    ^\u001b[0m\n\u001b[0;31mIndentationError\u001b[0m\u001b[0;31m:\u001b[0m unindent does not match any outer indentation level\n"
     ]
    }
   ],
   "source": [
    ">>>def variance(data):\n",
    "    \n",
    "     n = len(data)\n",
    "    \n",
    "     mean = sum(data) / n\n",
    "    \n",
    "     deviations = [(x - mean) ** 2 for x in data]\n",
    "\n",
    "    variance = sum(deviations) / n\n",
    "     return variance"
   ]
  },
  {
   "cell_type": "code",
   "execution_count": 16,
   "metadata": {},
   "outputs": [
    {
     "ename": "IndentationError",
     "evalue": "unindent does not match any outer indentation level (<tokenize>, line 9)",
     "output_type": "error",
     "traceback": [
      "\u001b[0;36m  File \u001b[0;32m\"<tokenize>\"\u001b[0;36m, line \u001b[0;32m9\u001b[0m\n\u001b[0;31m    variance = sum(deviations) / n\u001b[0m\n\u001b[0m    ^\u001b[0m\n\u001b[0;31mIndentationError\u001b[0m\u001b[0;31m:\u001b[0m unindent does not match any outer indentation level\n"
     ]
    }
   ],
   "source": [
    "def variance(data):\n",
    "    \n",
    "     n = len(data)\n",
    "    \n",
    "     mean = sum(data) / n\n",
    "    \n",
    "     deviations = [(x - mean) ** 2 for x in data]\n",
    "\n",
    "    variance = sum(deviations) / n\n",
    "     return variance"
   ]
  },
  {
   "cell_type": "code",
   "execution_count": 17,
   "metadata": {},
   "outputs": [],
   "source": [
    "import math"
   ]
  },
  {
   "cell_type": "code",
   "execution_count": 18,
   "metadata": {},
   "outputs": [],
   "source": [
    "def variance(data, ddof=0):\n",
    "     n = len(data)\n",
    "     mean = sum(data) / n\n",
    "     return sum((x - mean) ** 2 for x in data) / (n - ddof)"
   ]
  },
  {
   "cell_type": "code",
   "execution_count": 20,
   "metadata": {},
   "outputs": [
    {
     "ename": "IndentationError",
     "evalue": "unindent does not match any outer indentation level (<tokenize>, line 3)",
     "output_type": "error",
     "traceback": [
      "\u001b[0;36m  File \u001b[0;32m\"<tokenize>\"\u001b[0;36m, line \u001b[0;32m3\u001b[0m\n\u001b[0;31m    std_dev = math.sqrt(var)\u001b[0m\n\u001b[0m    ^\u001b[0m\n\u001b[0;31mIndentationError\u001b[0m\u001b[0;31m:\u001b[0m unindent does not match any outer indentation level\n"
     ]
    }
   ],
   "source": [
    " def stdev(data):\n",
    "     var = variance(data)\n",
    "    std_dev = math.sqrt(var)\n",
    "    return std_dev"
   ]
  },
  {
   "cell_type": "code",
   "execution_count": 21,
   "metadata": {},
   "outputs": [
    {
     "ename": "NameError",
     "evalue": "name 'stdev' is not defined",
     "output_type": "error",
     "traceback": [
      "\u001b[0;31m---------------------------------------------------------------------------\u001b[0m",
      "\u001b[0;31mNameError\u001b[0m                                 Traceback (most recent call last)",
      "\u001b[0;32m<ipython-input-21-5b2975872092>\u001b[0m in \u001b[0;36m<module>\u001b[0;34m\u001b[0m\n\u001b[0;32m----> 1\u001b[0;31m \u001b[0mstdev\u001b[0m\u001b[0;34m(\u001b[0m\u001b[0;34m[\u001b[0m\u001b[0;36m4\u001b[0m\u001b[0;34m,\u001b[0m \u001b[0;36m8\u001b[0m\u001b[0;34m,\u001b[0m \u001b[0;36m6\u001b[0m\u001b[0;34m,\u001b[0m \u001b[0;36m5\u001b[0m\u001b[0;34m,\u001b[0m \u001b[0;36m3\u001b[0m\u001b[0;34m,\u001b[0m \u001b[0;36m2\u001b[0m\u001b[0;34m,\u001b[0m \u001b[0;36m8\u001b[0m\u001b[0;34m,\u001b[0m \u001b[0;36m9\u001b[0m\u001b[0;34m,\u001b[0m \u001b[0;36m2\u001b[0m\u001b[0;34m,\u001b[0m \u001b[0;36m5\u001b[0m\u001b[0;34m]\u001b[0m\u001b[0;34m)\u001b[0m\u001b[0;34m\u001b[0m\u001b[0;34m\u001b[0m\u001b[0m\n\u001b[0m",
      "\u001b[0;31mNameError\u001b[0m: name 'stdev' is not defined"
     ]
    }
   ],
   "source": [
    "stdev([4, 8, 6, 5, 3, 2, 8, 9, 2, 5])"
   ]
  },
  {
   "cell_type": "code",
   "execution_count": 22,
   "metadata": {},
   "outputs": [],
   "source": [
    "#VARIANCE\n",
    "def variance(data):\n",
    "...     # Number of observations\n",
    "...     n = len(data)\n",
    "...     # Mean of the data\n",
    "...     mean = sum(data) / n\n",
    "...     # Square deviations\n",
    "...     deviations = [(x - mean) ** 2 for x in data]\n",
    "...     # Variance\n",
    "...     variance = sum(deviations) / n\n",
    "...     return variance"
   ]
  },
  {
   "cell_type": "code",
   "execution_count": 23,
   "metadata": {},
   "outputs": [
    {
     "data": {
      "text/plain": [
       "5.76"
      ]
     },
     "execution_count": 23,
     "metadata": {},
     "output_type": "execute_result"
    }
   ],
   "source": [
    "variance([4, 8, 6, 5, 3, 2, 8, 9, 2, 5])"
   ]
  },
  {
   "cell_type": "code",
   "execution_count": 24,
   "metadata": {},
   "outputs": [],
   "source": [
    "import math"
   ]
  },
  {
   "cell_type": "code",
   "execution_count": 25,
   "metadata": {},
   "outputs": [],
   "source": [
    "#STANDARD DEVIATION\n",
    "def variance(data, ddof=0):\n",
    "...     n = len(data)\n",
    "...     mean = sum(data) / n\n",
    "...     return sum((x - mean) ** 2 for x in data) / (n - ddof)"
   ]
  },
  {
   "cell_type": "code",
   "execution_count": 26,
   "metadata": {},
   "outputs": [],
   "source": [
    "def stdev(data):\n",
    "...     var = variance(data)\n",
    "...     std_dev = math.sqrt(var)\n",
    "...     return std_dev"
   ]
  },
  {
   "cell_type": "code",
   "execution_count": 27,
   "metadata": {},
   "outputs": [
    {
     "data": {
      "text/plain": [
       "2.4"
      ]
     },
     "execution_count": 27,
     "metadata": {},
     "output_type": "execute_result"
    }
   ],
   "source": [
    "stdev([4, 8, 6, 5, 3, 2, 8, 9, 2, 5])"
   ]
  },
  {
   "cell_type": "code",
   "execution_count": 29,
   "metadata": {},
   "outputs": [
    {
     "name": "stdout",
     "output_type": "stream",
     "text": [
      "vaiance is : 5.36\n",
      "Standard deviation of sample is : 2.3151673805580453\n"
     ]
    }
   ],
   "source": [
    "#VARIANCE AND STANDARD DEVIATION\n",
    "test_list = [4, 5, 8, 9, 10]\n",
    "mean = sum(test_list) / len(test_list)\n",
    "variance = sum([((x - mean) ** 2) for x in test_list]) / len(test_list)\n",
    "print(\"vaiance is : \" +str(variance))\n",
    "res = variance ** 0.5\n",
    "print(\"Standard deviation of sample is : \" + str(res))"
   ]
  },
  {
   "cell_type": "code",
   "execution_count": 30,
   "metadata": {},
   "outputs": [
    {
     "ename": "NameError",
     "evalue": "name 'df' is not defined",
     "output_type": "error",
     "traceback": [
      "\u001b[0;31m---------------------------------------------------------------------------\u001b[0m",
      "\u001b[0;31mNameError\u001b[0m                                 Traceback (most recent call last)",
      "\u001b[0;32m<ipython-input-30-6fed10c05835>\u001b[0m in \u001b[0;36m<module>\u001b[0;34m\u001b[0m\n\u001b[1;32m      1\u001b[0m \u001b[0;31m# copy the data\u001b[0m\u001b[0;34m\u001b[0m\u001b[0;34m\u001b[0m\u001b[0;34m\u001b[0m\u001b[0m\n\u001b[0;32m----> 2\u001b[0;31m \u001b[0mdf_max_scaled\u001b[0m \u001b[0;34m=\u001b[0m \u001b[0mdf\u001b[0m\u001b[0;34m.\u001b[0m\u001b[0mcopy\u001b[0m\u001b[0;34m(\u001b[0m\u001b[0;34m)\u001b[0m\u001b[0;34m\u001b[0m\u001b[0;34m\u001b[0m\u001b[0m\n\u001b[0m\u001b[1;32m      3\u001b[0m \u001b[0;34m\u001b[0m\u001b[0m\n\u001b[1;32m      4\u001b[0m \u001b[0;31m# apply normalization techniques\u001b[0m\u001b[0;34m\u001b[0m\u001b[0;34m\u001b[0m\u001b[0;34m\u001b[0m\u001b[0m\n\u001b[1;32m      5\u001b[0m \u001b[0;32mfor\u001b[0m \u001b[0mcolumn\u001b[0m \u001b[0;32min\u001b[0m \u001b[0mdf_max_scaled\u001b[0m\u001b[0;34m.\u001b[0m\u001b[0mcolumns\u001b[0m\u001b[0;34m:\u001b[0m\u001b[0;34m\u001b[0m\u001b[0;34m\u001b[0m\u001b[0m\n",
      "\u001b[0;31mNameError\u001b[0m: name 'df' is not defined"
     ]
    }
   ],
   "source": [
    "# copy the data\n",
    "df_max_scaled = df.copy()\n",
    "\n",
    "# apply normalization techniques\n",
    "for column in df_max_scaled.columns:\n",
    "\tdf_max_scaled[column] = df_max_scaled[column] / df_max_scaled[column].abs().max()\n",
    "\t\n",
    "# view normalized data\n",
    "display(df_max_scaled)\n"
   ]
  },
  {
   "cell_type": "code",
   "execution_count": 31,
   "metadata": {},
   "outputs": [
    {
     "ename": "NameError",
     "evalue": "name 'df' is not defined",
     "output_type": "error",
     "traceback": [
      "\u001b[0;31m---------------------------------------------------------------------------\u001b[0m",
      "\u001b[0;31mNameError\u001b[0m                                 Traceback (most recent call last)",
      "\u001b[0;32m<ipython-input-31-70f5ae1d3910>\u001b[0m in \u001b[0;36m<module>\u001b[0;34m\u001b[0m\n\u001b[1;32m      1\u001b[0m \u001b[0;31m# copy the data\u001b[0m\u001b[0;34m\u001b[0m\u001b[0;34m\u001b[0m\u001b[0;34m\u001b[0m\u001b[0m\n\u001b[0;32m----> 2\u001b[0;31m \u001b[0mdf_min_max_scaled\u001b[0m \u001b[0;34m=\u001b[0m \u001b[0mdf\u001b[0m\u001b[0;34m.\u001b[0m\u001b[0mcopy\u001b[0m\u001b[0;34m(\u001b[0m\u001b[0;34m)\u001b[0m\u001b[0;34m\u001b[0m\u001b[0;34m\u001b[0m\u001b[0m\n\u001b[0m\u001b[1;32m      3\u001b[0m \u001b[0;34m\u001b[0m\u001b[0m\n\u001b[1;32m      4\u001b[0m \u001b[0;31m# apply normalization techniques\u001b[0m\u001b[0;34m\u001b[0m\u001b[0;34m\u001b[0m\u001b[0;34m\u001b[0m\u001b[0m\n\u001b[1;32m      5\u001b[0m \u001b[0;32mfor\u001b[0m \u001b[0mcolumn\u001b[0m \u001b[0;32min\u001b[0m \u001b[0mdf_min_max_scaled\u001b[0m\u001b[0;34m.\u001b[0m\u001b[0mcolumns\u001b[0m\u001b[0;34m:\u001b[0m\u001b[0;34m\u001b[0m\u001b[0;34m\u001b[0m\u001b[0m\n",
      "\u001b[0;31mNameError\u001b[0m: name 'df' is not defined"
     ]
    }
   ],
   "source": [
    "# copy the data\n",
    "df_min_max_scaled = df.copy()\n",
    "\n",
    "# apply normalization techniques\n",
    "for column in df_min_max_scaled.columns:\n",
    "\tdf_min_max_scaled[column] = (df_min_max_scaled[column] - df_min_max_scaled[column].min()) / (df_min_max_scaled[column].max() - df_min_max_scaled[column].min())\t\n",
    "\n",
    "# view normalized data\n",
    "print(df_min_max_scaled)\n"
   ]
  },
  {
   "cell_type": "code",
   "execution_count": 32,
   "metadata": {},
   "outputs": [
    {
     "name": "stdout",
     "output_type": "stream",
     "text": [
      "[[0.11785113 0.1767767  0.29462783 0.35355339 0.41247896 0.23570226\n",
      "  0.47140452 0.41247896 0.35355339]]\n"
     ]
    }
   ],
   "source": [
    "#NORMALIZATION\n",
    "from sklearn import preprocessing\n",
    "import numpy as np\n",
    "x_array = np.array([2,3,5,6,7,4,8,7,6])\n",
    "normalized_arr = preprocessing.normalize([x_array])\n",
    "print(normalized_arr)"
   ]
  },
  {
   "cell_type": "code",
   "execution_count": 33,
   "metadata": {},
   "outputs": [
    {
     "data": {
      "text/html": [
       "<div>\n",
       "<style scoped>\n",
       "    .dataframe tbody tr th:only-of-type {\n",
       "        vertical-align: middle;\n",
       "    }\n",
       "\n",
       "    .dataframe tbody tr th {\n",
       "        vertical-align: top;\n",
       "    }\n",
       "\n",
       "    .dataframe thead th {\n",
       "        text-align: right;\n",
       "    }\n",
       "</style>\n",
       "<table border=\"1\" class=\"dataframe\">\n",
       "  <thead>\n",
       "    <tr style=\"text-align: right;\">\n",
       "      <th></th>\n",
       "      <th>Col A</th>\n",
       "      <th>Col B</th>\n",
       "      <th>Col C</th>\n",
       "      <th>Col D</th>\n",
       "    </tr>\n",
       "  </thead>\n",
       "  <tbody>\n",
       "    <tr>\n",
       "      <th>0</th>\n",
       "      <td>180000</td>\n",
       "      <td>110</td>\n",
       "      <td>18.9</td>\n",
       "      <td>1400</td>\n",
       "    </tr>\n",
       "    <tr>\n",
       "      <th>1</th>\n",
       "      <td>360000</td>\n",
       "      <td>905</td>\n",
       "      <td>23.4</td>\n",
       "      <td>1800</td>\n",
       "    </tr>\n",
       "    <tr>\n",
       "      <th>2</th>\n",
       "      <td>230000</td>\n",
       "      <td>230</td>\n",
       "      <td>14.0</td>\n",
       "      <td>1300</td>\n",
       "    </tr>\n",
       "    <tr>\n",
       "      <th>3</th>\n",
       "      <td>60000</td>\n",
       "      <td>450</td>\n",
       "      <td>13.5</td>\n",
       "      <td>1500</td>\n",
       "    </tr>\n",
       "  </tbody>\n",
       "</table>\n",
       "</div>"
      ],
      "text/plain": [
       "    Col A  Col B  Col C  Col D\n",
       "0  180000    110   18.9   1400\n",
       "1  360000    905   23.4   1800\n",
       "2  230000    230   14.0   1300\n",
       "3   60000    450   13.5   1500"
      ]
     },
     "metadata": {},
     "output_type": "display_data"
    }
   ],
   "source": [
    "\n",
    "import pandas as pd\n",
    "\n",
    "df = pd.DataFrame([\n",
    "\t\t\t\t[180000, 110, 18.9, 1400],\n",
    "\t\t\t\t[360000, 905, 23.4, 1800],\n",
    "\t\t\t\t[230000, 230, 14.0, 1300],\n",
    "\t\t\t\t[60000, 450, 13.5, 1500]],\n",
    "\t\n",
    "\t\t\t\tcolumns=['Col A', 'Col B',\n",
    "\t\t\t\t\t\t\t'Col C', 'Col D'])\n",
    "\n",
    "\n",
    "display(df)\n"
   ]
  },
  {
   "cell_type": "code",
   "execution_count": 34,
   "metadata": {},
   "outputs": [
    {
     "name": "stdout",
     "output_type": "stream",
     "text": [
      "value: Normalized value\n",
      "\n",
      "1 : 0.0\n",
      "2 : 0.2\n",
      "3 : 0.4\n",
      "4 : 0.6\n",
      "5 : 0.8\n",
      "6 : 1.0\n"
     ]
    }
   ],
   "source": [
    "#NORMALIZATION\n",
    "n_list=[1,2,3,4,5,6]\n",
    "list_max=max(n_list)\n",
    "list_min=min(n_list)\n",
    "print(\"value: Normalized value\\n\")\n",
    "for x in n_list:\n",
    "    n=(x-list_min)/(list_max-list_min)\n",
    "    print(\"{} : {}\".format(x,n))\n",
    "    "
   ]
  },
  {
   "cell_type": "code",
   "execution_count": 35,
   "metadata": {},
   "outputs": [
    {
     "name": "stdout",
     "output_type": "stream",
     "text": [
      "value: Normalized value\n",
      "\n",
      "40 : 0.06976744186046512\n",
      "200 : 1.0\n",
      "30.5 : 0.014534883720930232\n",
      "28 : 0.0\n",
      "54 : 0.1511627906976744\n",
      "60 : 0.18604651162790697\n"
     ]
    }
   ],
   "source": [
    "n_list=[40,200,30.5,28,54,60]\n",
    "list_max=max(n_list)\n",
    "list_min=min(n_list)\n",
    "print(\"value: Normalized value\\n\")\n",
    "for x in n_list:\n",
    "    n=(x-list_min)/(list_max-list_min)\n",
    "    print(\"{} : {}\".format(x,n))\n",
    "    "
   ]
  },
  {
   "cell_type": "code",
   "execution_count": 36,
   "metadata": {},
   "outputs": [
    {
     "name": "stdout",
     "output_type": "stream",
     "text": [
      "value: Standardized value\n",
      "\n",
      "24 : -0.4796512152928269\n",
      "20 : -0.49844571189205605\n",
      "67.5 : -0.27526106477621004\n",
      "40 : -0.40447322889591036\n",
      "5 : -0.5689250741391653\n",
      "600 : 2.226756294996169\n"
     ]
    }
   ],
   "source": [
    "#STANDARDIZATION\n",
    "\n",
    "import math\n",
    "a=[24,20,67.5,40,5,600]\n",
    "mean=sum(a)/len(a)\n",
    "variance=sum((i - mean) ** 2 for i in a) / len(a)\n",
    "sd=variance**0.5\n",
    "print(\"value: Standardized value\\n\")\n",
    "for x in a:\n",
    "    s=(x-mean)/sd\n",
    "    print(\"{} : {}\".format(x,s))\n"
   ]
  },
  {
   "cell_type": "code",
   "execution_count": 37,
   "metadata": {},
   "outputs": [
    {
     "name": "stdout",
     "output_type": "stream",
     "text": [
      "value: Standardized value\n",
      "\n",
      "24 : -0.5453864842504663\n",
      "20 : -0.725928216967862\n",
      "67.5 : 1.418004859051212\n",
      "40 : 0.17678044661911654\n",
      "5 : -1.4029597146580959\n",
      "60 : 1.079489110206095\n"
     ]
    }
   ],
   "source": [
    "import math\n",
    "a=[24,20,67.5,40,5,60]\n",
    "mean=sum(a)/len(a)\n",
    "variance=sum((i - mean) ** 2 for i in a) / len(a)\n",
    "sd=variance**0.5\n",
    "print(\"value: Standardized value\\n\")\n",
    "for x in a:\n",
    "    s=(x-mean)/sd\n",
    "    print(\"{} : {}\".format(x,s))\n"
   ]
  },
  {
   "cell_type": "code",
   "execution_count": 1,
   "metadata": {},
   "outputs": [
    {
     "name": "stdout",
     "output_type": "stream",
     "text": [
      "[[5.9, 3.2], [4.6, 2.9], [4.7, 3.2], [5.0, 3.0], [4.9, 3.1], [5.1, 3.8], [6.0, 3.0]]\n",
      "[[5.5, 4.2]]\n",
      "[[6.2, 2.8], [6.7, 3.1]]\n"
     ]
    }
   ],
   "source": [
    "#k-means clustering\n",
    "\n",
    "import math\n",
    "cluster1 = []\n",
    "cluster2 = []\n",
    "cluster3 = []\n",
    "x1,y1 = 6.2,3.2\n",
    "x2,y2 = 6.6,3.7\n",
    "x3,y3 = 6.5,3.0\n",
    "points =[[5.9,3.2],\n",
    "         [4.6,2.9],\n",
    "         [6.2,2.8],\n",
    "         [4.7,3.2],\n",
    "         [5.5,4.2],\n",
    "         [5.0,3.0],\n",
    "         [4.9,3.1],\n",
    "         [6.7,3.1],\n",
    "         [5.1,3.8],\n",
    "         [6.0,3.0]]\n",
    "\n",
    "def eucledian_distance(a,b):\n",
    "    dis1 = math.sqrt((a-x1)**2 + (b-y1)**2)\n",
    "    dis2 = math.sqrt((a-x2)**2 + (b-y2)**2)\n",
    "    dis3 = math.sqrt((a-x3)**2 + (b-y3)**2)\n",
    "    mind = min(dis1,dis2,dis3)\n",
    "    if(mind == dis1):\n",
    "        cluster1.append([a,b])\n",
    "    elif(mind == dis2):\n",
    "        cluster2.append([a,b])\n",
    "    else:\n",
    "        cluster3.append([a,b])\n",
    "        \n",
    "for i,j in points:\n",
    "    eucledian_distance(i,j)\n",
    "print(cluster1)\n",
    "print(cluster2)\n",
    "print(cluster3)\n",
    "            "
   ]
  },
  {
   "cell_type": "code",
   "execution_count": 2,
   "metadata": {},
   "outputs": [
    {
     "name": "stdout",
     "output_type": "stream",
     "text": [
      "5.17 3.17\n"
     ]
    }
   ],
   "source": [
    "sumi = 0\n",
    "sumj = 0\n",
    "for i,j in cluster1:\n",
    "    sumi = sumi + i\n",
    "    sumj = sumj + j\n",
    "nx1 = round(sumi/len(cluster1),2)\n",
    "ny1 = round(sumj/len(cluster1),2)\n",
    "print(nx1,ny1)"
   ]
  },
  {
   "cell_type": "code",
   "execution_count": 6,
   "metadata": {},
   "outputs": [
    {
     "name": "stdout",
     "output_type": "stream",
     "text": [
      "Centroid 1\n",
      "[0.0, 1.3341664064126342, 0.5000000000000001, 1.2000000000000002, 1.077032961426901, 0.9219544457292891, 1.004987562112089, 0.8062257748298548, 1.0000000000000002, 0.22360679774997896]\n",
      "Centroid 2\n",
      "[1.2000000000000002, 0.3162277660168384, 1.5524174696260025, 0.0, 1.2806248474865696, 0.3605551275463989, 0.22360679774997916, 2.0024984394500787, 0.7211102550927972, 1.3152946437965904]\n",
      "Centroid 3\n",
      "[0.9219544457292891, 0.4123105625617664, 1.216552506059644, 0.3605551275463989, 1.3, 0.0, 0.1414213562373093, 1.7029386365926404, 0.8062257748298547, 1.0]\n",
      "Clusters\n",
      "[0.0, 0.5000000000000001, 1.077032961426901, 0.8062257748298548, 0.22360679774997896]\n",
      "[0.3162277660168384, 0.0, 0.7211102550927972]\n",
      "[0.0, 0.1414213562373093]\n"
     ]
    }
   ],
   "source": [
    "import pandas as pn\n",
    "import numpy as np\n",
    "\n",
    "data = pn.read_csv('datasets.csv')\n",
    "k=3\n",
    "cent=[[data['x1'][0],data['x2'][0]],[data['x1'][3],data['x2'][3]],[data['x1'][5],data['x2'][5]]]\n",
    "dt=[]\n",
    "for i in range(len(data)):\n",
    "        dt.append([data['x1'][i],data['x2'][i]])\n",
    "dt=np.array(dt)\n",
    "dist=[]\n",
    "\n",
    "print(\"Centroid 1\")\n",
    "for i in range(len(dt)):\n",
    "    dist.append(np.linalg.norm(dt[i]-cent[0]))\n",
    "print(dist)\n",
    "\n",
    "dist1=[]\n",
    "print(\"Centroid 2\")\n",
    "for i in range(len(dt)):\n",
    "    dist1.append(np.linalg.norm(dt[i]-cent[1]))\n",
    "print(dist1)\n",
    "\n",
    "dist2=[]\n",
    "print(\"Centroid 3\")\n",
    "for i in range(len(dt)):\n",
    "    dist2.append(np.linalg.norm(dt[i]-cent[2]))\n",
    "print(dist2)\n",
    "\n",
    "cluster1=[]\n",
    "cluster2=[]\n",
    "cluster3=[]\n",
    "for i in range(len(dist)):\n",
    "    \n",
    "        if dist[i]==0:\n",
    "            cluster1.append(dist[i])\n",
    "        elif dist1[i]==0:\n",
    "            cluster2.append(dist1[i])\n",
    "        elif dist2[i]==0:\n",
    "            cluster3.append(dist2[i])\n",
    "        else:\n",
    "            x=min(dist[i],dist1[i],dist2[i])\n",
    "            if x in dist:\n",
    "                cluster1.append(x)\n",
    "            elif x in dist1:\n",
    "                cluster2.append(x)\n",
    "            else:\n",
    "                cluster3.append(x)\n",
    "\n",
    "print(\"Clusters\")\n",
    "print(cluster1)\n",
    "print(cluster2)\n",
    "print(cluster3)\n"
   ]
  },
  {
   "cell_type": "code",
   "execution_count": 7,
   "metadata": {},
   "outputs": [
    {
     "name": "stdout",
     "output_type": "stream",
     "text": [
      "    x1   x2\n",
      "0  5.9  3.2\n",
      "1  4.6  2.9\n",
      "2  6.2  2.8\n",
      "3  4.7  3.2\n",
      "4  5.5  4.2\n",
      "5  5.0  3.0\n",
      "6  4.9  3.1\n",
      "7  6.7  3.1\n",
      "8  5.1  3.8\n",
      "9  6.0  3.0\n",
      "[[5.9 3.2]\n",
      " [4.6 2.9]\n",
      " [6.2 2.8]\n",
      " [4.7 3.2]\n",
      " [5.5 4.2]\n",
      " [5.  3. ]\n",
      " [4.9 3.1]\n",
      " [6.7 3.1]\n",
      " [5.1 3.8]\n",
      " [6.  3. ]]\n",
      "Initial Centroids\n",
      "(3, 2)\n",
      "[[0. 0.]\n",
      " [0. 0.]\n",
      " [0. 0.]]\n",
      "[0. 0. 0. 0. 0. 0. 0. 0. 0. 0.]\n",
      "12.537144692236463\n",
      " Centre of the clusters after  1  Iteration \n",
      " [[5.1714287 3.1714287]\n",
      " [5.5       4.2      ]\n",
      " [6.45      2.95     ]]\n",
      "Error  ...  1.5886393\n",
      " Centre of the clusters after  2  Iteration \n",
      " [[4.8   3.05 ]\n",
      " [5.3   4.   ]\n",
      " [6.2   3.025]]\n",
      "Error  ...  0.5484787\n",
      " Centre of the clusters after  3  Iteration \n",
      " [[4.8   3.05 ]\n",
      " [5.3   4.   ]\n",
      " [6.2   3.025]]\n",
      "Error  ...  0.0\n"
     ]
    }
   ],
   "source": [
    "import numpy as np\n",
    "import pandas as pd\n",
    "from copy import deepcopy\n",
    "\n",
    "\n",
    "def euclidean(a,b, ax=1):\n",
    "    return np.linalg.norm(a-b, axis=ax)\n",
    "\n",
    "\n",
    "def main():\n",
    "    k = 3\n",
    "    X = pd.read_csv('datasets.csv',index_col=False)\n",
    "    print(X)\n",
    "\n",
    "    x1 = X['x1'].values\n",
    "    x2 = X['x2'].values\n",
    "    X = np.array(list(zip(x1, x2)))\n",
    "    print(X)\n",
    "    C_x = [6.2, 6.6 ,6.5]\n",
    "    C_y = [3.2, 3.7, 3.0]\n",
    "    Centroid = np.array(list(zip(C_x, C_y)), dtype=np.float32)\n",
    "    print(\"Initial Centroids\")\n",
    "    print(Centroid.shape)\n",
    "\n",
    "    Centroid_old = np.zeros(Centroid.shape)\n",
    "    print(Centroid_old)\n",
    "    # Cluster Lables(0, 1, 2)\n",
    "    clusters = np.zeros(len(X))\n",
    "    print(clusters)\n",
    "    error = euclidean(Centroid, Centroid_old, None)\n",
    "    print(error)\n",
    "    iterr = 0\n",
    "    # Loop will run till the error becomes zero\n",
    "    while error != 0:\n",
    "        # Assigning each value to its closest cluster\n",
    "        iterr = iterr + 1\n",
    "        for i in range(len(X)):\n",
    "            #print(X[i])\n",
    "            distances = euclidean(X[i], Centroid)\n",
    "            #print(distances)\n",
    "            cluster = np.argmin(distances)\n",
    "            clusters[i] = cluster\n",
    "\n",
    "        Centroid_old = deepcopy(Centroid)\n",
    "        \n",
    "        # Finding the new centroids by taking the Mean\n",
    "        for p in range(k):\n",
    "            points = [X[j] for j in range(len(X)) if clusters[j] == p]\n",
    "            Centroid[p] = np.mean(points, axis=0)\n",
    "        print(\" Centre of the clusters after \", iterr,\" Iteration \\n\", Centroid)\n",
    "        error = euclidean(Centroid, Centroid_old, None)\n",
    "        print(\"Error  ... \",error)  \n",
    "    \n",
    "\n",
    "if __name__ == \"__main__\": \n",
    "    main()\n",
    "\n"
   ]
  },
  {
   "cell_type": "code",
   "execution_count": null,
   "metadata": {},
   "outputs": [],
   "source": []
  }
 ],
 "metadata": {
  "kernelspec": {
   "display_name": "Python 3",
   "language": "python",
   "name": "python3"
  },
  "language_info": {
   "codemirror_mode": {
    "name": "ipython",
    "version": 3
   },
   "file_extension": ".py",
   "mimetype": "text/x-python",
   "name": "python",
   "nbconvert_exporter": "python",
   "pygments_lexer": "ipython3",
   "version": "3.8.5"
  }
 },
 "nbformat": 4,
 "nbformat_minor": 4
}
